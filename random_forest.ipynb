{
 "cells": [
  {
   "cell_type": "markdown",
   "id": "2faea5a9",
   "metadata": {},
   "source": [
    "# Implementing Random Forest "
   ]
  },
  {
   "cell_type": "code",
   "execution_count": 1,
   "id": "d6c86b40",
   "metadata": {},
   "outputs": [],
   "source": [
    "import numpy as np\n",
    "import math \n",
    "%matplotlib inline\n",
    "import matplotlib.pyplot as plt"
   ]
  },
  {
   "cell_type": "markdown",
   "id": "5ca6c0e3",
   "metadata": {},
   "source": [
    "### Regression Tree  "
   ]
  },
  {
   "cell_type": "code",
   "execution_count": 2,
   "id": "3187420b",
   "metadata": {},
   "outputs": [],
   "source": [
    "class decisionTree:\n",
    "    def __init__(self,data,index,h):\n",
    "        if h==0:\n",
    "            self.leaf = True\n",
    "            self.prediction = self.average(data,index)\n",
    "        elif len( set([data[i][-1] for i in index]) ) == 1:\n",
    "            self.leaf = True\n",
    "            self.prediction = data[index[0]][-1]\n",
    "       \n",
    "        else:\n",
    "            self.leaf = False\n",
    "            self.attr , self.split , self.left , self.right = self.generate(data,index,h)\n",
    "\n",
    "    def average(self,data,index):\n",
    "        if len(index) == 0: \n",
    "            return 0.0\n",
    "        return sum([ data[i][-1] for i in index ]) / len(index)\n",
    "\n",
    "    def rss(self,data,index):\n",
    "        if len(index) == 0:\n",
    "            return 0.0\n",
    "        mean = self.average(data,index)\n",
    "        return sum([ pow( data[i][-1]-mean , 2.0 ) for i in index ])\n",
    "  \n",
    "\n",
    "    def generate(self,data,index,h):\n",
    "        p = len(data[index[0]])-1\n",
    "        labels = [ data[i][-1] for i in index ]\n",
    "        \n",
    "        opt = pow ( max(labels) - min(labels) , 2.0 ) * len(index) + 1.0\n",
    "       \n",
    "        random_attr=np.random.choice(p,math.ceil(p/3),replace=False)\n",
    "        \n",
    "        for j in random_attr:\n",
    "            cuts = set( [ data[i][j] for i in index ] )\n",
    "            for cut in cuts:\n",
    "                yl = [ i for i in index if data[i][j]<=cut ]\n",
    "                yr = [ i for i in index if data[i][j]>cut ]\n",
    "                tp = self.rss(data,yl) + self.rss(data,yr)\n",
    "                if tp < opt:\n",
    "                    opt , attr ,split, left , right = tp , j , cut , yl , yr\n",
    "        return attr , split , decisionTree(data,left,h-1) , decisionTree(data,right,h-1)\n",
    "\n",
    "    def predict(self,x):\n",
    "        if self.leaf == True: \n",
    "            return self.prediction\n",
    "        if (x[self.attr] <= self.split): \n",
    "            return self.left.predict(x)\n",
    "        return self.right.predict(x)\n",
    "\n",
    "   "
   ]
  },
  {
   "cell_type": "markdown",
   "id": "87a7cc15",
   "metadata": {},
   "source": [
    "### Uploading and splitting the dataset "
   ]
  },
  {
   "cell_type": "code",
   "execution_count": 3,
   "id": "752edbb7",
   "metadata": {},
   "outputs": [
    {
     "name": "stderr",
     "output_type": "stream",
     "text": [
      "c:\\Users\\ferna\\programs inst\\lib\\site-packages\\sklearn\\utils\\deprecation.py:87: FutureWarning: Function load_boston is deprecated; `load_boston` is deprecated in 1.0 and will be removed in 1.2.\n",
      "\n",
      "    The Boston housing prices dataset has an ethical problem. You can refer to\n",
      "    the documentation of this function for further details.\n",
      "\n",
      "    The scikit-learn maintainers therefore strongly discourage the use of this\n",
      "    dataset unless the purpose of the code is to study and educate about\n",
      "    ethical issues in data science and machine learning.\n",
      "\n",
      "    In this special case, you can fetch the dataset from the original\n",
      "    source::\n",
      "\n",
      "        import pandas as pd\n",
      "        import numpy as np\n",
      "\n",
      "        data_url = \"http://lib.stat.cmu.edu/datasets/boston\"\n",
      "        raw_df = pd.read_csv(data_url, sep=\"\\s+\", skiprows=22, header=None)\n",
      "        data = np.hstack([raw_df.values[::2, :], raw_df.values[1::2, :2]])\n",
      "        target = raw_df.values[1::2, 2]\n",
      "\n",
      "    Alternative datasets include the California housing dataset (i.e.\n",
      "    :func:`~sklearn.datasets.fetch_california_housing`) and the Ames housing\n",
      "    dataset. You can load the datasets as follows::\n",
      "\n",
      "        from sklearn.datasets import fetch_california_housing\n",
      "        housing = fetch_california_housing()\n",
      "\n",
      "    for the California housing dataset and::\n",
      "\n",
      "        from sklearn.datasets import fetch_openml\n",
      "        housing = fetch_openml(name=\"house_prices\", as_frame=True)\n",
      "\n",
      "    for the Ames housing dataset.\n",
      "  warnings.warn(msg, category=FutureWarning)\n"
     ]
    }
   ],
   "source": [
    "#importing the dataset\n",
    "from sklearn.datasets import load_boston\n",
    "boston=load_boston()\n",
    "data=boston.data\n",
    "data=np.c_[data,boston.target]\n"
   ]
  },
  {
   "cell_type": "code",
   "execution_count": 4,
   "id": "991e8a7c",
   "metadata": {},
   "outputs": [],
   "source": [
    "#splitting the dataset into training and test set \n",
    "from sklearn.model_selection import train_test_split\n",
    "data_train, data_test= train_test_split(data,test_size=0.3, random_state=2802)\n"
   ]
  },
  {
   "cell_type": "markdown",
   "id": "46da3da0",
   "metadata": {},
   "source": [
    "### Creating the function 'bts'  to generate the B BTS and the function 'trees' that would call the function 'bts' and will train B regression trees from the BTS samples."
   ]
  },
  {
   "cell_type": "code",
   "execution_count": 5,
   "id": "de6b9d62",
   "metadata": {},
   "outputs": [],
   "source": [
    "#This is a function that would generate the B BTS from the training set \n",
    "def bts(data,B):\n",
    "    number_of_rows = data.shape[0]\n",
    "    samples=[]\n",
    "    for i in range(B):\n",
    "        random_indices = np.random.choice(number_of_rows, size=number_of_rows, replace=True)\n",
    "        random_rows = data[random_indices, :]\n",
    "        samples.append(random_rows)\n",
    "    return samples \n",
    "\n",
    "#This is a function that will call the bts function that will generate B BTS and then from those \n",
    "#samples will create B trees.\n",
    "\n",
    "def trees(data,B,h):\n",
    "    samples=bts(data,B)\n",
    "    trees=[]\n",
    "    for i in range(B):\n",
    "        data=samples[i]\n",
    "        index=[j for j in range(len(data))]\n",
    "        trees.append(decisionTree(data,index,h))\n",
    "    return trees\n",
    "\n"
   ]
  },
  {
   "cell_type": "markdown",
   "id": "d4a0b342",
   "metadata": {},
   "source": [
    "### Creating the function 'y_pred'  that would predict the labels. One y_hat for each tree and then calculate the final y_hat for each observation."
   ]
  },
  {
   "cell_type": "code",
   "execution_count": 36,
   "id": "03edec53",
   "metadata": {},
   "outputs": [],
   "source": [
    "\n",
    "def y_pred(data,list_trees):\n",
    "    y_hat_list=[] #list of lists with predictions for each observation for each tree\n",
    "    for i in range(len(list_trees)):\n",
    "        y_hat_list.append([list_trees[i].predict(data[j]) for j in range(len(data))])\n",
    "    #calculating the mean prediction for each observation \n",
    "    y_hat_list=np.array(y_hat_list)\n",
    "    index=len(y_hat_list[0,:])\n",
    "    y_hat=[np.mean(y_hat_list[:,i]) for i in range(index)]\n",
    "    \n",
    "    return y_hat\n",
    "\n"
   ]
  },
  {
   "cell_type": "markdown",
   "id": "556dd816",
   "metadata": {},
   "source": [
    "### Defining the function 'mse' that will call the function 'y_pred' to calculate the predicted labels and then will calculate the mse for the dataset passed."
   ]
  },
  {
   "cell_type": "code",
   "execution_count": 29,
   "id": "246b742a",
   "metadata": {},
   "outputs": [],
   "source": [
    "def mse(data,list_trees):\n",
    "    y_hat=y_pred(data,list_trees)\n",
    "    y=data[:,-1]\n",
    "    mse=np.mean((y-y_hat)**2)\n",
    "    return mse"
   ]
  },
  {
   "cell_type": "markdown",
   "id": "e8d3de6b",
   "metadata": {},
   "source": [
    "### Calling all the functions to generate B=100 BTS samples, train B=100 decision trees from those samples with height=3, calculating the predicted labels and getting the mse for the training and test dataset.\n"
   ]
  },
  {
   "cell_type": "code",
   "execution_count": 37,
   "id": "bd804e78",
   "metadata": {},
   "outputs": [
    {
     "name": "stdout",
     "output_type": "stream",
     "text": [
      "The MSE for the training dataset is: 12.289473548061117\n",
      "The MSE for the test dataset is: 17.485571331535528\n"
     ]
    },
    {
     "data": {
      "text/plain": [
       "100"
      ]
     },
     "execution_count": 37,
     "metadata": {},
     "output_type": "execute_result"
    }
   ],
   "source": [
    "B=100\n",
    "h=3\n",
    "list_trees=trees(data_train,B,h)\n",
    "#training mse\n",
    "mse_train= mse(data_train,list_trees)\n",
    "#testing mse\n",
    "mse_test=mse(data_test,list_trees)\n",
    "print('The MSE for the training dataset is: {}'.format(mse_train))\n",
    "print('The MSE for the test dataset is: {}'.format(mse_test))\n"
   ]
  },
  {
   "cell_type": "markdown",
   "id": "c2c1edc7",
   "metadata": {},
   "source": [
    "### Trying different values for the number of BTS (B) and plotting the training and test MSE against B"
   ]
  },
  {
   "cell_type": "code",
   "execution_count": 38,
   "id": "75678e93",
   "metadata": {},
   "outputs": [],
   "source": [
    "h=3\n",
    "B=[10,20,30,50,80,100,120]\n",
    "mse_train=[]\n",
    "mse_test=[]\n",
    "for i in B:\n",
    "    list_trees=trees(data_train,i,h)\n",
    "    mse_train.append(mse(data_train,list_trees))\n",
    "    mse_test.append(mse(data_test,list_trees))\n",
    "      "
   ]
  },
  {
   "cell_type": "code",
   "execution_count": 39,
   "id": "4f714841",
   "metadata": {},
   "outputs": [
    {
     "data": {
      "image/png": "[encoded data removed]",
      "text/plain": [
       "<Figure size 432x288 with 1 Axes>"
      ]
     },
     "metadata": {
      "needs_background": "light"
     },
     "output_type": "display_data"
    }
   ],
   "source": [
    "plt.plot(B,mse_train,'r*-',label='Training MSE')\n",
    "plt.plot(B,mse_test,'g*-',label='Test MSE')    \n",
    "plt.xlabel('Number of BTS')\n",
    "plt.ylabel('MSE')\n",
    "plt.legend(bbox_to_anchor=(1.0, 1.0), loc='upper left')\n",
    "\n",
    "plt.show()"
   ]
  },
  {
   "cell_type": "markdown",
   "id": "2d772508",
   "metadata": {},
   "source": [
    "### Trying different values for height (h) and plotting  training and test MSE against height"
   ]
  },
  {
   "cell_type": "code",
   "execution_count": 47,
   "id": "d65039ce",
   "metadata": {},
   "outputs": [],
   "source": [
    "B=100 \n",
    "h=[1,2,3,4]\n",
    "mse_train=[]\n",
    "mse_test=[]\n",
    "for i in range(len(h)):\n",
    "    list_trees=trees(data_train,B,h[i])\n",
    "    mse_train.append(mse(data_train,list_trees))\n",
    "    mse_test.append(mse(data_test,list_trees))\n",
    "    "
   ]
  },
  {
   "cell_type": "code",
   "execution_count": 48,
   "id": "9829b691",
   "metadata": {},
   "outputs": [
    {
     "data": {
      "text/plain": [
       "<matplotlib.legend.Legend at 0x297338fd030>"
      ]
     },
     "execution_count": 48,
     "metadata": {},
     "output_type": "execute_result"
    },
    {
     "data": {
      "image/png": "[encoded data removed]",
      "text/plain": [
       "<Figure size 432x288 with 1 Axes>"
      ]
     },
     "metadata": {
      "needs_background": "light"
     },
     "output_type": "display_data"
    }
   ],
   "source": [
    "plt.plot(h,mse_train,'r*-',label='Training MSE')\n",
    "plt.plot(h,mse_test,'g*-',label='Test MSE')    \n",
    "plt.xlabel('Hight')\n",
    "plt.ylabel('MSE')\n",
    "plt.legend(bbox_to_anchor=(1.0, 1.0), loc='upper left')\n"
   ]
  }
 ],
 "metadata": {
  "kernelspec": {
   "display_name": "Python 3.10.1 64-bit",
   "language": "python",
   "name": "python3"
  },
  "language_info": {
   "codemirror_mode": {
    "name": "ipython",
    "version": 3
   },
   "file_extension": ".py",
   "mimetype": "text/x-python",
   "name": "python",
   "nbconvert_exporter": "python",
   "pygments_lexer": "ipython3",
   "version": "3.10.1"
  },
  "vscode": {
   "interpreter": {
    "hash": "ebad247e5534c1ba5b14ab8cc72fe2532bc9dd980a9cee8d1951b26de076f558"
   }
  }
 },
 "nbformat": 4,
 "nbformat_minor": 5
}
