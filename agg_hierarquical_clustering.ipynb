{
 "cells": [
  {
   "cell_type": "markdown",
   "id": "e1e4da6e",
   "metadata": {},
   "source": [
    "# Implementing Agglomerative Hierarchical Clustering"
   ]
  },
  {
   "cell_type": "markdown",
   "id": "a8761b4c",
   "metadata": {},
   "source": [
    "### Implement AHC with the following linkage functions: single linkage, complete linkage, average linkage and centroid linkage."
   ]
  },
  {
   "cell_type": "code",
   "execution_count": 2,
   "id": "5c932c51",
   "metadata": {},
   "outputs": [],
   "source": [
    "import math \n",
    "import numpy as np"
   ]
  },
  {
   "cell_type": "code",
   "execution_count": 3,
   "id": "803bcb11",
   "metadata": {},
   "outputs": [],
   "source": [
    "class Dendrogram :\n",
    "    def __init__(self, data,linkage,k):\n",
    "        \n",
    "        clusters = []\n",
    "        self.k_clusters=clusters\n",
    "        \n",
    "        for observation in data :\n",
    "            clusters.append(Clusters(0,[observation],None,None))\n",
    "        \n",
    "        while len(clusters)!=k and k!=len(data):\n",
    "            least_distance=math.inf\n",
    "            cluster1=0\n",
    "            cluster2=0   \n",
    "            for i in range(len(clusters)):\n",
    "                for j in  range(len(clusters)):\n",
    "                    if j >= i :\n",
    "                        continue\n",
    "                        \n",
    "                    if linkage=='single_l':\n",
    "                        dist=self.single_l(clusters[i],clusters[j])\n",
    "                    elif linkage=='complete_l':\n",
    "                        dist=self.complete_l(clusters[i],clusters[j])\n",
    "                    elif linkage=='avr_l':\n",
    "                        dist=self.avr_l(clusters[i],clusters[j])\n",
    "                    else:\n",
    "                        \n",
    "                        dist=self.centroid_l(clusters[i],clusters[j])\n",
    "\n",
    "                    if dist<least_distance:\n",
    "                        least_distance=dist\n",
    "                        cluster1=clusters[i]\n",
    "                        cluster2=clusters[j]  \n",
    "\n",
    "           \n",
    "            new_cluster = Clusters(least_distance,cluster1.data + cluster2.data,cluster1,cluster2)\n",
    "            \n",
    "            clusters.remove(cluster1)\n",
    "            clusters.remove(cluster2)\n",
    "            clusters.append(new_cluster)\n",
    "         \n",
    "    def complete_l(self,cluster1,cluster2):\n",
    "        dmax=-math.inf  \n",
    "        for i in cluster1.data:\n",
    "            for j in cluster2.data:\n",
    "                distance =np.linalg.norm(i - j)\n",
    "                if distance>dmax:\n",
    "                    dmax=distance\n",
    "        return dmax\n",
    "    \n",
    "    \n",
    "    def single_l(self,cluster1,cluster2):\n",
    "        dmin=math.inf  \n",
    "        for i in cluster1.data:\n",
    "            for j in cluster2.data:\n",
    "                distance =np.linalg.norm(i - j)\n",
    "                if distance<dmin:\n",
    "                    dmin=distance\n",
    "        return dmin\n",
    "    \n",
    "    def avr_l(self,cluster1,cluster2):\n",
    "        avr=0 \n",
    "        for i in cluster1.data:\n",
    "            for j in cluster2.data:\n",
    "                distance =np.linalg.norm(i - j)\n",
    "                avr+=distance\n",
    "\n",
    "        return avr/(len(cluster1.data)*len(cluster2.data))\n",
    "    \n",
    "    def centroid_l(self,cluster1,cluster2):\n",
    "        centroid1=sum(cluster1.data)/len(cluster1.data)\n",
    "        centroid2=sum(cluster2.data)/len(cluster2.data)\n",
    "        centroid=np.sqrt((sum(centroid1-centroid2)**2))\n",
    "        return centroid\n",
    "\n",
    "\n",
    "class Clusters :\n",
    "    def __init__(self,height,data,L,R):\n",
    "       \n",
    "        if len(data)==1 :\n",
    "            self.isleaf = True\n",
    "            self.height =0 \n",
    "            self.data = data\n",
    "        else :\n",
    "            self.isleaf = False\n",
    "            self.height = height\n",
    "            self.data = data\n",
    "            self.L = L\n",
    "            self.R = R"
   ]
  },
  {
   "cell_type": "markdown",
   "id": "48e46688",
   "metadata": {},
   "source": [
    "### Importing the data and initializing parameters"
   ]
  },
  {
   "cell_type": "code",
   "execution_count": 4,
   "id": "ecaaa0c6",
   "metadata": {},
   "outputs": [],
   "source": [
    "data=np.genfromtxt('ncidata.txt')\n",
    "data=np.transpose(data)\n",
    "linkage='complete_l'\n",
    "k=10"
   ]
  },
  {
   "cell_type": "markdown",
   "id": "764f49c7",
   "metadata": {},
   "source": [
    "### function that return the k clusters cutting the dendogram in the appropiate height"
   ]
  },
  {
   "cell_type": "code",
   "execution_count": 6,
   "id": "3a4ba6a0",
   "metadata": {},
   "outputs": [],
   "source": [
    "\n",
    "\n",
    "def getClusters(data,linkage,k):\n",
    "    clusters=[]\n",
    "    max_clusters=np.shape(data)[0]\n",
    "    if k>max_clusters:\n",
    "        print('k has to be smaller than '+ str(max_clusters))\n",
    "        quit\n",
    "\n",
    "    else:\n",
    "        cluster=Dendrogram(data,linkage,k).k_clusters\n",
    "        for i in range(k):\n",
    "            clusters.append(cluster[i].data)\n",
    "    return(clusters)\n",
    "\n",
    "        \n",
    "\n",
    "    "
   ]
  },
  {
   "cell_type": "code",
   "execution_count": 8,
   "id": "eb230fed",
   "metadata": {},
   "outputs": [],
   "source": [
    "linkage=['single_l','complete_l','avr_l','centroid_l']\n",
    "n_elements=[] # number of elements in each cluster for each distance metric\n",
    "for link in linkage:\n",
    "    clusters=getClusters(data,link,k)\n",
    "    cluster_elements=[]\n",
    "    for i in range(k):\n",
    "        c=clusters[i]\n",
    "        cluster_elements.append(len(c))\n",
    "        # print('elements in cluster '+str(i+1))\n",
    "        # for j in range(len(c)):\n",
    "        #     print(c[j])\n",
    "    n_elements.append(cluster_elements)"
   ]
  },
  {
   "cell_type": "code",
   "execution_count": 9,
   "id": "6812a16d",
   "metadata": {},
   "outputs": [
    {
     "data": {
      "text/plain": [
       "[[1, 1, 1, 1, 1, 1, 1, 3, 2, 52],\n",
       " [1, 1, 2, 2, 2, 9, 5, 10, 21, 11],\n",
       " [1, 1, 1, 1, 2, 9, 2, 11, 5, 31],\n",
       " [1, 1, 1, 8, 13, 4, 5, 6, 5, 20]]"
      ]
     },
     "execution_count": 9,
     "metadata": {},
     "output_type": "execute_result"
    }
   ],
   "source": [
    "n_elements\n"
   ]
  }
 ],
 "metadata": {
  "kernelspec": {
   "display_name": "Python 3.10.1 64-bit",
   "language": "python",
   "name": "python3"
  },
  "language_info": {
   "codemirror_mode": {
    "name": "ipython",
    "version": 3
   },
   "file_extension": ".py",
   "mimetype": "text/x-python",
   "name": "python",
   "nbconvert_exporter": "python",
   "pygments_lexer": "ipython3",
   "version": "3.10.1"
  },
  "vscode": {
   "interpreter": {
    "hash": "ebad247e5534c1ba5b14ab8cc72fe2532bc9dd980a9cee8d1951b26de076f558"
   }
  }
 },
 "nbformat": 4,
 "nbformat_minor": 5
}
