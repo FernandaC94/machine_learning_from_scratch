{
 "cells": [
  {
   "cell_type": "markdown",
   "id": "female-edition",
   "metadata": {},
   "source": [
    "# Logistic regression and gradient descent implementation"
   ]
  },
  {
   "cell_type": "code",
   "execution_count": 1,
   "id": "lesbian-navigation",
   "metadata": {},
   "outputs": [],
   "source": [
    "import numpy as np\n",
    "import math\n",
    "import pandas as pd\n",
    "from sklearn.preprocessing import StandardScaler\n",
    "from sklearn.model_selection import train_test_split\n",
    "import matplotlib.pyplot as plt"
   ]
  },
  {
   "cell_type": "code",
   "execution_count": 2,
   "id": "circular-amazon",
   "metadata": {},
   "outputs": [],
   "source": [
    "#logistic function \n",
    "#x: data inputs\n",
    "#lamda: weights or coeficients\n",
    "def logistic_f(x,lamda):\n",
    "    row,col=np.shape(x)\n",
    "    extra_col=np.transpose(np.ones(row))\n",
    "    x= np.c_[extra_col,x]\n",
    "    yhat=np.dot(x,lamda)\n",
    "    prob=[]\n",
    "    for i in range(len(yhat)):\n",
    "        prob.append(1/(1+math.exp(-yhat[i])))\n",
    "    return prob\n",
    "    \n",
    "    \n",
    "#objective function\n",
    "def log_loss(x,lamda,y):\n",
    "    #y: labels\n",
    "    F=logistic_f(x,lamda)\n",
    "    loss=0\n",
    "    for i in range(len(y)):\n",
    "        l=math.log(y[i]*F[i]+(1-y[i])*(1-F[i]))\n",
    "        loss=loss+l\n",
    "    return -loss\n",
    "    "
   ]
  },
  {
   "cell_type": "code",
   "execution_count": 4,
   "id": "enclosed-composite",
   "metadata": {},
   "outputs": [],
   "source": [
    "# pre-step function to calculate gradients for each weight=lamda\n",
    "def derivate(x,lamda,y,i):\n",
    "    #i: index of each weight \n",
    "    #derivative at each weight is the sum of the derivatives for all data points at the given weight\n",
    "    row,col=np.shape(x)\n",
    "    extra_col=np.transpose(np.ones(row))\n",
    "    x_tilda=np.c_[extra_col,x]\n",
    "    F=logistic_f(x,lamda)\n",
    "    derivate=0\n",
    "    for n in range(row):\n",
    "        numerator=(y[n]-(1-y[n]))*(F[n]*(1-F[n])*(x_tilda[n,i]))\n",
    "        denominator=y[n]*F[n]+(1-y[n])*(1-F[n])\n",
    "        derivate=derivate+(numerator/denominator)\n",
    "    return(-derivate)\n",
    "\n",
    "\n",
    "#function to calculate gradients for each weight\n",
    "def gradient(x,lamda,y):\n",
    "    grad_temp=[]\n",
    "    for i in range(len(lamda)):\n",
    "        grad_temp.append(derivate(x,lamda,y,i))\n",
    "    return (grad_temp)\n",
    "#function that optimize the weigths= lamda\n",
    "def optimization(x,lamda,y,T,eta):\n",
    "    #T: epochs\n",
    "    #eta:learning rate\n",
    "    for i in range(T):\n",
    "        grad=np.array(gradient(x,lamda,y))\n",
    "        lamda=np.array(lamda)-(eta*grad)\n",
    "    return lamda\n",
    "        \n",
    "    "
   ]
  },
  {
   "cell_type": "markdown",
   "id": "champion-documentation",
   "metadata": {},
   "source": [
    "### Applying logistic regression and gradient descent to auto data set"
   ]
  },
  {
   "cell_type": "code",
   "execution_count": 7,
   "id": "victorian-allowance",
   "metadata": {},
   "outputs": [],
   "source": [
    "# Loading the auto dataset and creating a new variable 'high'\n",
    "Auto= pd.read_csv('auto.data.txt', delim_whitespace=True, na_values='?')\n",
    "Auto.dropna(inplace=True)\n",
    "#creating a new column for high\n",
    "Auto['high'] = np.where(Auto['mpg']>=23,1,0)\n",
    "\n",
    "#creating dummy variables for origin\n",
    "Auto['origin2'] = np.where(Auto['origin']==2,1,0)\n",
    "Auto['origin3'] = np.where(Auto['origin']==3,1,0)\n"
   ]
  },
  {
   "cell_type": "code",
   "execution_count": 8,
   "id": "stable-terrain",
   "metadata": {},
   "outputs": [],
   "source": [
    "#normalising the features\n",
    "scaler= StandardScaler()\n",
    "data_scaled=Auto.loc[:,('horsepower','weight','year','origin2','origin3')]\n",
    "data_scaled=scaler.fit_transform(data_scaled)\n"
   ]
  },
  {
   "cell_type": "code",
   "execution_count": 9,
   "id": "proof-baltimore",
   "metadata": {},
   "outputs": [],
   "source": [
    "#naming my x and y variables and initializing parameters\n",
    "y=Auto.loc[:,'high'].to_numpy()\n",
    "x=data_scaled\n",
    "init_lamda=np.transpose(np.array([0.1,0.2,0,1,-1,0.1]))\n",
    "T=100\n",
    "eta=0.0001\n",
    "lamda=optimization(x,init_lamda,y,T,eta)\n",
    "\n"
   ]
  },
  {
   "cell_type": "code",
   "execution_count": 10,
   "id": "attended-excess",
   "metadata": {},
   "outputs": [],
   "source": [
    "#splitting the dataset randomly into training an test set. \n",
    "#80% for training\n",
    "data=np.c_[x,y]\n",
    "x_train,x_test,y_train,y_test=train_test_split(data[:,:5],data[:,-1],test_size=0.2,random_state=228)\n"
   ]
  },
  {
   "cell_type": "code",
   "execution_count": 11,
   "id": "indie-article",
   "metadata": {},
   "outputs": [],
   "source": [
    "#defining a prediction function for predicting the labels \n",
    "def predict(x,lamda):\n",
    "    prob=logistic_f(x,lamda)\n",
    "    y_pred=[]\n",
    "    for p in range(len(prob)):\n",
    "        if prob[p]>0.5:\n",
    "            y_pred.append(1)\n",
    "        else:\n",
    "            y_pred.append(0)\n",
    "    return y_pred\n",
    "\n",
    "#defining error rate function\n",
    "def error_rate(y,y_pred):\n",
    "    error_rate=0\n",
    "    for i in range(len(y_test)):\n",
    "        error=(y_test[i]-y_pred[i])**2\n",
    "        error_rate+=error\n",
    "    return (error_rate/len(y_test))\n",
    "        \n"
   ]
  },
  {
   "cell_type": "code",
   "execution_count": 20,
   "id": "permanent-preference",
   "metadata": {},
   "outputs": [
    {
     "name": "stdout",
     "output_type": "stream",
     "text": [
      "\n",
      " for eta: 0.1 and T: 100\n",
      "Training Error Rate:\n",
      " 0.5189873417721519\n",
      "Test Error Rate:\n",
      " 0.08860759493670886\n",
      "\n",
      " for eta: 0.01 and T: 100\n",
      "Training Error Rate:\n",
      " 0.4810126582278481\n",
      "Test Error Rate:\n",
      " 0.06329113924050633\n",
      "\n",
      " for eta: 0.001 and T: 100\n",
      "Training Error Rate:\n",
      " 0.46835443037974683\n",
      "Test Error Rate:\n",
      " 0.05063291139240506\n",
      "\n",
      " for eta: 0.0001 and T: 100\n",
      "Training Error Rate:\n",
      " 0.4936708860759494\n",
      "Test Error Rate:\n",
      " 0.08860759493670886\n",
      "\n",
      " for eta: 1e-05 and T: 100\n",
      "Training Error Rate:\n",
      " 0.43037974683544306\n",
      "Test Error Rate:\n",
      " 0.21518987341772153\n",
      "\n",
      " for eta: 1e-06 and T: 100\n",
      "Training Error Rate:\n",
      " 0.5316455696202531\n",
      "Test Error Rate:\n",
      " 0.189873417721519\n",
      "\n",
      " for eta: 1e-07 and T: 100\n",
      "Training Error Rate:\n",
      " 0.46835443037974683\n",
      "Test Error Rate:\n",
      " 0.43037974683544306\n",
      "\n",
      " for eta: 1e-08 and T: 100\n",
      "Training Error Rate:\n",
      " 0.4936708860759494\n",
      "Test Error Rate:\n",
      " 0.5316455696202531\n",
      "\n",
      " for eta: 1e-09 and T: 100\n",
      "Training Error Rate:\n",
      " 0.43037974683544306\n",
      "Test Error Rate:\n",
      " 0.3037974683544304\n",
      "\n",
      " for eta: 1e-10 and T: 100\n",
      "Training Error Rate:\n",
      " 0.5822784810126582\n",
      "Test Error Rate:\n",
      " 0.7848101265822784\n"
     ]
    }
   ],
   "source": [
    "#trying different learning rates\n",
    "#finding the error rate of the trained model on the test set\n",
    "np.random.seed(228)\n",
    "eta=0.00001\n",
    "etas=[.1,.01,.001,.0001,.00001,.000001,.0000001,.00000001,.000000001,.0000000001]\n",
    "T=100\n",
    "error_rate_train=[]\n",
    "error_rate_test=[]\n",
    "\n",
    "for i in range(len(etas)):\n",
    "    row,col=np.shape(x_train)\n",
    "    lamda_init=np.random.uniform(low=-.7,high=.71, size=col+1)\n",
    "    lamda=optimization(x_train,lamda_init,y_train,T,etas[i])\n",
    "    y_train_pred=predict(x_train,lamda)\n",
    "    y_test_pred=predict(x_test,lamda)\n",
    "    training_ER=error_rate(y_train,y_train_pred)\n",
    "    test_ER=error_rate(y_test,y_test_pred)\n",
    "    error_rate_train.append(training_ER)\n",
    "    error_rate_test.append(test_ER)\n",
    "    print('\\n for eta: {} and T: {}'.format(etas[i],T))    \n",
    "    print('Training Error Rate:\\n {}'.format(training_ER))\n",
    "    print('Test Error Rate:\\n {}'.format(test_ER))\n",
    "\n",
    "    \n",
    "    \n",
    "    \n",
    "    "
   ]
  },
  {
   "cell_type": "code",
   "execution_count": 13,
   "id": "universal-maine",
   "metadata": {},
   "outputs": [
    {
     "data": {
      "text/plain": [
       "0.001"
      ]
     },
     "execution_count": 13,
     "metadata": {},
     "output_type": "execute_result"
    }
   ],
   "source": [
    "#choosing learning rate that produces the smallest test error rate\n",
    "eta=etas[error_rate_test.index(min(error_rate_test))]\n",
    "eta"
   ]
  },
  {
   "cell_type": "code",
   "execution_count": 14,
   "id": "continental-jonathan",
   "metadata": {},
   "outputs": [
    {
     "data": {
      "text/html": [
       "<div>\n",
       "<style scoped>\n",
       "    .dataframe tbody tr th:only-of-type {\n",
       "        vertical-align: middle;\n",
       "    }\n",
       "\n",
       "    .dataframe tbody tr th {\n",
       "        vertical-align: top;\n",
       "    }\n",
       "\n",
       "    .dataframe thead th {\n",
       "        text-align: right;\n",
       "    }\n",
       "</style>\n",
       "<table border=\"1\" class=\"dataframe\">\n",
       "  <thead>\n",
       "    <tr style=\"text-align: right;\">\n",
       "      <th></th>\n",
       "      <th>Training Error Rate</th>\n",
       "      <th>Test Error Rate</th>\n",
       "      <th>T</th>\n",
       "      <th>Eta</th>\n",
       "    </tr>\n",
       "  </thead>\n",
       "  <tbody>\n",
       "    <tr>\n",
       "      <th>0</th>\n",
       "      <td>0.518987</td>\n",
       "      <td>0.088608</td>\n",
       "      <td>100</td>\n",
       "      <td>1.000000e-01</td>\n",
       "    </tr>\n",
       "    <tr>\n",
       "      <th>1</th>\n",
       "      <td>0.481013</td>\n",
       "      <td>0.063291</td>\n",
       "      <td>100</td>\n",
       "      <td>1.000000e-02</td>\n",
       "    </tr>\n",
       "    <tr>\n",
       "      <th>2</th>\n",
       "      <td>0.468354</td>\n",
       "      <td>0.050633</td>\n",
       "      <td>100</td>\n",
       "      <td>1.000000e-03</td>\n",
       "    </tr>\n",
       "    <tr>\n",
       "      <th>3</th>\n",
       "      <td>0.493671</td>\n",
       "      <td>0.088608</td>\n",
       "      <td>100</td>\n",
       "      <td>1.000000e-04</td>\n",
       "    </tr>\n",
       "    <tr>\n",
       "      <th>4</th>\n",
       "      <td>0.430380</td>\n",
       "      <td>0.215190</td>\n",
       "      <td>100</td>\n",
       "      <td>1.000000e-05</td>\n",
       "    </tr>\n",
       "    <tr>\n",
       "      <th>5</th>\n",
       "      <td>0.531646</td>\n",
       "      <td>0.189873</td>\n",
       "      <td>100</td>\n",
       "      <td>1.000000e-06</td>\n",
       "    </tr>\n",
       "    <tr>\n",
       "      <th>6</th>\n",
       "      <td>0.468354</td>\n",
       "      <td>0.430380</td>\n",
       "      <td>100</td>\n",
       "      <td>1.000000e-07</td>\n",
       "    </tr>\n",
       "    <tr>\n",
       "      <th>7</th>\n",
       "      <td>0.493671</td>\n",
       "      <td>0.531646</td>\n",
       "      <td>100</td>\n",
       "      <td>1.000000e-08</td>\n",
       "    </tr>\n",
       "    <tr>\n",
       "      <th>8</th>\n",
       "      <td>0.430380</td>\n",
       "      <td>0.303797</td>\n",
       "      <td>100</td>\n",
       "      <td>1.000000e-09</td>\n",
       "    </tr>\n",
       "    <tr>\n",
       "      <th>9</th>\n",
       "      <td>0.582278</td>\n",
       "      <td>0.784810</td>\n",
       "      <td>100</td>\n",
       "      <td>1.000000e-10</td>\n",
       "    </tr>\n",
       "  </tbody>\n",
       "</table>\n",
       "</div>"
      ],
      "text/plain": [
       "   Training Error Rate  Test Error Rate    T           Eta\n",
       "0             0.518987         0.088608  100  1.000000e-01\n",
       "1             0.481013         0.063291  100  1.000000e-02\n",
       "2             0.468354         0.050633  100  1.000000e-03\n",
       "3             0.493671         0.088608  100  1.000000e-04\n",
       "4             0.430380         0.215190  100  1.000000e-05\n",
       "5             0.531646         0.189873  100  1.000000e-06\n",
       "6             0.468354         0.430380  100  1.000000e-07\n",
       "7             0.493671         0.531646  100  1.000000e-08\n",
       "8             0.430380         0.303797  100  1.000000e-09\n",
       "9             0.582278         0.784810  100  1.000000e-10"
      ]
     },
     "execution_count": 14,
     "metadata": {},
     "output_type": "execute_result"
    }
   ],
   "source": [
    "#generating a table to compare test and train error rates\n",
    "T=[]\n",
    "t=100\n",
    "for i in range(len(etas)):\n",
    "    T.append(t)\n",
    "data_table=np.c_[np.array(error_rate_train),np.array(error_rate_test)]\n",
    "data_table=pd.DataFrame(data=data_table,columns=['Training Error Rate','Test Error Rate'])\n",
    "\n",
    "data_table['T']=T\n",
    "data_table['Eta']=etas\n",
    "\n",
    "data_table"
   ]
  },
  {
   "cell_type": "markdown",
   "id": "centered-stereo",
   "metadata": {},
   "source": [
    "Traying different stopping criterias\n"
   ]
  },
  {
   "cell_type": "code",
   "execution_count": 15,
   "id": "monthly-queensland",
   "metadata": {},
   "outputs": [
    {
     "name": "stdout",
     "output_type": "stream",
     "text": [
      "No of iteration when objective change more than 1%:\n",
      " 109\n",
      "Values of lamdas after 109 iterations:\n",
      " [-0.45706198 -1.32031894 -1.80791477  1.02941585  0.44181584  0.58528332]\n"
     ]
    }
   ],
   "source": [
    "\n",
    "np.random.seed(228)\n",
    "eta=eta\n",
    "lamda=np.random.uniform(low=-.7,high=.71, size=col+1)\n",
    "num_iter=0\n",
    "\n",
    "while True:\n",
    "    grad=np.array(gradient(x_train,lamda,y_train))\n",
    "    lamda=np.array(lamda)-(eta*grad)\n",
    "    if num_iter%10==0:\n",
    "        initial_value=log_loss(x_train,lamda,y_train)\n",
    "       \n",
    "       \n",
    "    else:\n",
    "        if num_iter%10==9:\n",
    "            final_value=log_loss(x_train,lamda,y_train)\n",
    "            if ((initial_value-final_value)/initial_value)*100<=1:\n",
    "                lamda_opt=lamda\n",
    "                print('No of iteration when objective change more than 1%:\\n {}'.format(num_iter))\n",
    "                print('Values of lamdas after {} iterations:\\n {}'.format(num_iter,lamda_opt))\n",
    "                break\n",
    "    \n",
    "    num_iter=num_iter+1\n",
    " \n",
    "\n",
    "    \n",
    "\n"
   ]
  },
  {
   "cell_type": "code",
   "execution_count": 16,
   "id": "durable-grade",
   "metadata": {},
   "outputs": [
    {
     "name": "stdout",
     "output_type": "stream",
     "text": [
      "Training Error Rate:\n",
      " 0.46835443037974683\n",
      "Test Error Rate:\n",
      " 0.05063291139240506\n"
     ]
    }
   ],
   "source": [
    "#calculating error rate with optimal learning rate\n",
    "lamda=lamda_opt\n",
    "y_train_pred=predict(x_train,lamda)\n",
    "y_test_pred=predict(x_test,lamda)\n",
    "training_ER=error_rate(y_train,y_train_pred)\n",
    "test_ER=error_rate(y_test,y_test_pred)\n",
    "\n",
    "print('Training Error Rate:\\n {}'.format(training_ER))\n",
    "print('Test Error Rate:\\n {}'.format(test_ER))\n"
   ]
  },
  {
   "cell_type": "markdown",
   "id": "modern-naples",
   "metadata": {},
   "source": [
    "plotting the test error rate for 100 different models "
   ]
  },
  {
   "cell_type": "code",
   "execution_count": 22,
   "id": "union-trailer",
   "metadata": {},
   "outputs": [],
   "source": [
    "np.random.seed(228)\n",
    "eta\n",
    "T=100\n",
    "test_error_rate=[]\n",
    "for i in range(T):\n",
    "    lamda=np.random.uniform(low=-.7,high=.71, size=col+1)\n",
    "    lamda_opt=optimization(x_train,lamda,y_train,T,eta)\n",
    "    y_test_pred=predict(x_test,lamda_opt)\n",
    "    test_error_rate.append(error_rate(y_test,y_test_pred))"
   ]
  },
  {
   "cell_type": "code",
   "execution_count": 23,
   "id": "surgical-lottery",
   "metadata": {},
   "outputs": [
    {
     "data": {
      "image/png": "[encoded data removed]",
      "text/plain": [
       "<Figure size 432x288 with 1 Axes>"
      ]
     },
     "metadata": {
      "needs_background": "light"
     },
     "output_type": "display_data"
    }
   ],
   "source": [
    "plt.boxplot(test_error_rate)\n",
    "plt.show()"
   ]
  }
 ],
 "metadata": {
  "kernelspec": {
   "display_name": "Python 3.10.1 64-bit",
   "language": "python",
   "name": "python3"
  },
  "language_info": {
   "codemirror_mode": {
    "name": "ipython",
    "version": 3
   },
   "file_extension": ".py",
   "mimetype": "text/x-python",
   "name": "python",
   "nbconvert_exporter": "python",
   "pygments_lexer": "ipython3",
   "version": "3.10.1"
  },
  "vscode": {
   "interpreter": {
    "hash": "ebad247e5534c1ba5b14ab8cc72fe2532bc9dd980a9cee8d1951b26de076f558"
   }
  }
 },
 "nbformat": 4,
 "nbformat_minor": 5
}
